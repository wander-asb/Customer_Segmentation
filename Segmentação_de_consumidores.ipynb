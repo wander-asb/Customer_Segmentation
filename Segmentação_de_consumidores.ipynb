{
  "nbformat": 4,
  "nbformat_minor": 0,
  "metadata": {
    "colab": {
      "provenance": [],
      "toc_visible": true,
      "authorship_tag": "ABX9TyMk3sS4CWhAiTkLbD3gWyCc"
    },
    "kernelspec": {
      "name": "python3",
      "display_name": "Python 3"
    },
    "language_info": {
      "name": "python"
    }
  },
  "cells": [
    {
      "cell_type": "markdown",
      "source": [
        "## Bibliotecas"
      ],
      "metadata": {
        "id": "qyJlFQfBMo9l"
      }
    },
    {
      "cell_type": "code",
      "execution_count": null,
      "metadata": {
        "id": "ovOn7SgYlJEn"
      },
      "outputs": [],
      "source": [
        "import pandas as pd\n",
        "import seaborn as sns\n",
        "import datetime as dt\n",
        "import matplotlib.pyplot as plt\n",
        "import numpy as np\n",
        "from google.colab                import drive"
      ]
    },
    {
      "cell_type": "code",
      "source": [
        "drive.mount('/content/gdrive')"
      ],
      "metadata": {
        "colab": {
          "base_uri": "https://localhost:8080/"
        },
        "id": "8RY1iooglMUt",
        "outputId": "e46f076b-3051-4cd6-9a8c-78802480c5fb"
      },
      "execution_count": null,
      "outputs": [
        {
          "output_type": "stream",
          "name": "stdout",
          "text": [
            "Mounted at /content/gdrive\n"
          ]
        }
      ]
    },
    {
      "cell_type": "code",
      "source": [
        "df_segmentacao = pd.read_excel('/content/gdrive/MyDrive/Colab Notebooks/Segmentação de Clientes/online_retail_II.xlsx')\n",
        "df_segmentacao.shape"
      ],
      "metadata": {
        "colab": {
          "base_uri": "https://localhost:8080/"
        },
        "id": "I-nfpJVclbrd",
        "outputId": "c9682e93-f933-4d00-e45c-4d301f35edf5"
      },
      "execution_count": null,
      "outputs": [
        {
          "output_type": "execute_result",
          "data": {
            "text/plain": [
              "(525461, 8)"
            ]
          },
          "metadata": {},
          "execution_count": 3
        }
      ]
    },
    {
      "cell_type": "code",
      "source": [
        "df_segmentacao.head()"
      ],
      "metadata": {
        "colab": {
          "base_uri": "https://localhost:8080/",
          "height": 206
        },
        "id": "BCoKlHCLclzl",
        "outputId": "aa3748bd-54cf-4ba1-e317-39f6399af1f9"
      },
      "execution_count": null,
      "outputs": [
        {
          "output_type": "execute_result",
          "data": {
            "text/plain": [
              "  Invoice StockCode                          Description  Quantity  \\\n",
              "0  489434     85048  15CM CHRISTMAS GLASS BALL 20 LIGHTS        12   \n",
              "1  489434    79323P                   PINK CHERRY LIGHTS        12   \n",
              "2  489434    79323W                  WHITE CHERRY LIGHTS        12   \n",
              "3  489434     22041         RECORD FRAME 7\" SINGLE SIZE         48   \n",
              "4  489434     21232       STRAWBERRY CERAMIC TRINKET BOX        24   \n",
              "\n",
              "          InvoiceDate  Price  Customer ID         Country  \n",
              "0 2009-12-01 07:45:00   6.95      13085.0  United Kingdom  \n",
              "1 2009-12-01 07:45:00   6.75      13085.0  United Kingdom  \n",
              "2 2009-12-01 07:45:00   6.75      13085.0  United Kingdom  \n",
              "3 2009-12-01 07:45:00   2.10      13085.0  United Kingdom  \n",
              "4 2009-12-01 07:45:00   1.25      13085.0  United Kingdom  "
            ],
            "text/html": [
              "\n",
              "  <div id=\"df-94d386c7-5e52-45f5-9b73-c7ac5edab39a\">\n",
              "    <div class=\"colab-df-container\">\n",
              "      <div>\n",
              "<style scoped>\n",
              "    .dataframe tbody tr th:only-of-type {\n",
              "        vertical-align: middle;\n",
              "    }\n",
              "\n",
              "    .dataframe tbody tr th {\n",
              "        vertical-align: top;\n",
              "    }\n",
              "\n",
              "    .dataframe thead th {\n",
              "        text-align: right;\n",
              "    }\n",
              "</style>\n",
              "<table border=\"1\" class=\"dataframe\">\n",
              "  <thead>\n",
              "    <tr style=\"text-align: right;\">\n",
              "      <th></th>\n",
              "      <th>Invoice</th>\n",
              "      <th>StockCode</th>\n",
              "      <th>Description</th>\n",
              "      <th>Quantity</th>\n",
              "      <th>InvoiceDate</th>\n",
              "      <th>Price</th>\n",
              "      <th>Customer ID</th>\n",
              "      <th>Country</th>\n",
              "    </tr>\n",
              "  </thead>\n",
              "  <tbody>\n",
              "    <tr>\n",
              "      <th>0</th>\n",
              "      <td>489434</td>\n",
              "      <td>85048</td>\n",
              "      <td>15CM CHRISTMAS GLASS BALL 20 LIGHTS</td>\n",
              "      <td>12</td>\n",
              "      <td>2009-12-01 07:45:00</td>\n",
              "      <td>6.95</td>\n",
              "      <td>13085.0</td>\n",
              "      <td>United Kingdom</td>\n",
              "    </tr>\n",
              "    <tr>\n",
              "      <th>1</th>\n",
              "      <td>489434</td>\n",
              "      <td>79323P</td>\n",
              "      <td>PINK CHERRY LIGHTS</td>\n",
              "      <td>12</td>\n",
              "      <td>2009-12-01 07:45:00</td>\n",
              "      <td>6.75</td>\n",
              "      <td>13085.0</td>\n",
              "      <td>United Kingdom</td>\n",
              "    </tr>\n",
              "    <tr>\n",
              "      <th>2</th>\n",
              "      <td>489434</td>\n",
              "      <td>79323W</td>\n",
              "      <td>WHITE CHERRY LIGHTS</td>\n",
              "      <td>12</td>\n",
              "      <td>2009-12-01 07:45:00</td>\n",
              "      <td>6.75</td>\n",
              "      <td>13085.0</td>\n",
              "      <td>United Kingdom</td>\n",
              "    </tr>\n",
              "    <tr>\n",
              "      <th>3</th>\n",
              "      <td>489434</td>\n",
              "      <td>22041</td>\n",
              "      <td>RECORD FRAME 7\" SINGLE SIZE</td>\n",
              "      <td>48</td>\n",
              "      <td>2009-12-01 07:45:00</td>\n",
              "      <td>2.10</td>\n",
              "      <td>13085.0</td>\n",
              "      <td>United Kingdom</td>\n",
              "    </tr>\n",
              "    <tr>\n",
              "      <th>4</th>\n",
              "      <td>489434</td>\n",
              "      <td>21232</td>\n",
              "      <td>STRAWBERRY CERAMIC TRINKET BOX</td>\n",
              "      <td>24</td>\n",
              "      <td>2009-12-01 07:45:00</td>\n",
              "      <td>1.25</td>\n",
              "      <td>13085.0</td>\n",
              "      <td>United Kingdom</td>\n",
              "    </tr>\n",
              "  </tbody>\n",
              "</table>\n",
              "</div>\n",
              "      <button class=\"colab-df-convert\" onclick=\"convertToInteractive('df-94d386c7-5e52-45f5-9b73-c7ac5edab39a')\"\n",
              "              title=\"Convert this dataframe to an interactive table.\"\n",
              "              style=\"display:none;\">\n",
              "        \n",
              "  <svg xmlns=\"http://www.w3.org/2000/svg\" height=\"24px\"viewBox=\"0 0 24 24\"\n",
              "       width=\"24px\">\n",
              "    <path d=\"M0 0h24v24H0V0z\" fill=\"none\"/>\n",
              "    <path d=\"M18.56 5.44l.94 2.06.94-2.06 2.06-.94-2.06-.94-.94-2.06-.94 2.06-2.06.94zm-11 1L8.5 8.5l.94-2.06 2.06-.94-2.06-.94L8.5 2.5l-.94 2.06-2.06.94zm10 10l.94 2.06.94-2.06 2.06-.94-2.06-.94-.94-2.06-.94 2.06-2.06.94z\"/><path d=\"M17.41 7.96l-1.37-1.37c-.4-.4-.92-.59-1.43-.59-.52 0-1.04.2-1.43.59L10.3 9.45l-7.72 7.72c-.78.78-.78 2.05 0 2.83L4 21.41c.39.39.9.59 1.41.59.51 0 1.02-.2 1.41-.59l7.78-7.78 2.81-2.81c.8-.78.8-2.07 0-2.86zM5.41 20L4 18.59l7.72-7.72 1.47 1.35L5.41 20z\"/>\n",
              "  </svg>\n",
              "      </button>\n",
              "      \n",
              "  <style>\n",
              "    .colab-df-container {\n",
              "      display:flex;\n",
              "      flex-wrap:wrap;\n",
              "      gap: 12px;\n",
              "    }\n",
              "\n",
              "    .colab-df-convert {\n",
              "      background-color: #E8F0FE;\n",
              "      border: none;\n",
              "      border-radius: 50%;\n",
              "      cursor: pointer;\n",
              "      display: none;\n",
              "      fill: #1967D2;\n",
              "      height: 32px;\n",
              "      padding: 0 0 0 0;\n",
              "      width: 32px;\n",
              "    }\n",
              "\n",
              "    .colab-df-convert:hover {\n",
              "      background-color: #E2EBFA;\n",
              "      box-shadow: 0px 1px 2px rgba(60, 64, 67, 0.3), 0px 1px 3px 1px rgba(60, 64, 67, 0.15);\n",
              "      fill: #174EA6;\n",
              "    }\n",
              "\n",
              "    [theme=dark] .colab-df-convert {\n",
              "      background-color: #3B4455;\n",
              "      fill: #D2E3FC;\n",
              "    }\n",
              "\n",
              "    [theme=dark] .colab-df-convert:hover {\n",
              "      background-color: #434B5C;\n",
              "      box-shadow: 0px 1px 3px 1px rgba(0, 0, 0, 0.15);\n",
              "      filter: drop-shadow(0px 1px 2px rgba(0, 0, 0, 0.3));\n",
              "      fill: #FFFFFF;\n",
              "    }\n",
              "  </style>\n",
              "\n",
              "      <script>\n",
              "        const buttonEl =\n",
              "          document.querySelector('#df-94d386c7-5e52-45f5-9b73-c7ac5edab39a button.colab-df-convert');\n",
              "        buttonEl.style.display =\n",
              "          google.colab.kernel.accessAllowed ? 'block' : 'none';\n",
              "\n",
              "        async function convertToInteractive(key) {\n",
              "          const element = document.querySelector('#df-94d386c7-5e52-45f5-9b73-c7ac5edab39a');\n",
              "          const dataTable =\n",
              "            await google.colab.kernel.invokeFunction('convertToInteractive',\n",
              "                                                     [key], {});\n",
              "          if (!dataTable) return;\n",
              "\n",
              "          const docLinkHtml = 'Like what you see? Visit the ' +\n",
              "            '<a target=\"_blank\" href=https://colab.research.google.com/notebooks/data_table.ipynb>data table notebook</a>'\n",
              "            + ' to learn more about interactive tables.';\n",
              "          element.innerHTML = '';\n",
              "          dataTable['output_type'] = 'display_data';\n",
              "          await google.colab.output.renderOutput(dataTable, element);\n",
              "          const docLink = document.createElement('div');\n",
              "          docLink.innerHTML = docLinkHtml;\n",
              "          element.appendChild(docLink);\n",
              "        }\n",
              "      </script>\n",
              "    </div>\n",
              "  </div>\n",
              "  "
            ]
          },
          "metadata": {},
          "execution_count": 4
        }
      ]
    },
    {
      "cell_type": "code",
      "source": [
        "df_segmentacao.dtypes"
      ],
      "metadata": {
        "colab": {
          "base_uri": "https://localhost:8080/"
        },
        "id": "mUDAaZW5_PKa",
        "outputId": "5fb5bdb9-afe1-4778-cd2b-76aa15682f32"
      },
      "execution_count": null,
      "outputs": [
        {
          "output_type": "execute_result",
          "data": {
            "text/plain": [
              "Invoice                object\n",
              "StockCode              object\n",
              "Description            object\n",
              "Quantity                int64\n",
              "InvoiceDate    datetime64[ns]\n",
              "Price                 float64\n",
              "Customer ID           float64\n",
              "Country                object\n",
              "dtype: object"
            ]
          },
          "metadata": {},
          "execution_count": 5
        }
      ]
    },
    {
      "cell_type": "markdown",
      "source": [
        "## Tratamento de dados"
      ],
      "metadata": {
        "id": "gxM6D3eiMriE"
      }
    },
    {
      "cell_type": "code",
      "source": [
        "#Retiramos dados nulos de consumidores\n",
        "df_segmentacao = df_segmentacao[~df_segmentacao['Customer ID'].isna()].drop('Description', axis=1)"
      ],
      "metadata": {
        "id": "rHB4Gr3rRxQs"
      },
      "execution_count": null,
      "outputs": []
    },
    {
      "cell_type": "code",
      "source": [
        "#Verificamos que existem quantidades negativas de compras\n",
        "df_segmentacao = df_segmentacao[~df_segmentacao['Quantity'] < 1]"
      ],
      "metadata": {
        "id": "9WocPDIlSVp-"
      },
      "execution_count": null,
      "outputs": []
    },
    {
      "cell_type": "code",
      "source": [
        "#Retiramos dados de clientes que tiveram compra com valor nulo\n",
        "df_segmentacao = df_segmentacao[df_segmentacao['Price'] != 0]"
      ],
      "metadata": {
        "id": "A-VtMhKGTKUZ"
      },
      "execution_count": null,
      "outputs": []
    },
    {
      "cell_type": "code",
      "source": [
        "#Intervalo de tempo da base de dados\n",
        "df_segmentacao['InvoiceDate'].agg(['min', 'max'])\n",
        "\n",
        "#A data máxima será a medida final do intervalo de recencia\n",
        "data_máxima = max(df_segmentacao['InvoiceDate'])"
      ],
      "metadata": {
        "id": "fCfPyLSNAEi_"
      },
      "execution_count": null,
      "outputs": []
    },
    {
      "cell_type": "code",
      "source": [
        "df_segmentacao['Customer ID'] = df_segmentacao['Customer ID'].astype(int).astype(str)\n",
        "df_segmentacao.shape"
      ],
      "metadata": {
        "colab": {
          "base_uri": "https://localhost:8080/"
        },
        "id": "cxOlS7xqT6Rr",
        "outputId": "306da416-91ed-489d-e03c-85f9af47c77e"
      },
      "execution_count": null,
      "outputs": [
        {
          "output_type": "execute_result",
          "data": {
            "text/plain": [
              "(411981, 7)"
            ]
          },
          "metadata": {},
          "execution_count": 10
        }
      ]
    },
    {
      "cell_type": "code",
      "source": [
        "#Quantidade de clientes únicos pertencentes a base de dados\n",
        "len(df_segmentacao['Customer ID'].unique().tolist())"
      ],
      "metadata": {
        "colab": {
          "base_uri": "https://localhost:8080/"
        },
        "id": "omfcGeGr7pxr",
        "outputId": "0df07894-a4e2-482e-e49b-ab7184de9854"
      },
      "execution_count": null,
      "outputs": [
        {
          "output_type": "execute_result",
          "data": {
            "text/plain": [
              "4362"
            ]
          },
          "metadata": {},
          "execution_count": 11
        }
      ]
    },
    {
      "cell_type": "code",
      "source": [
        "df_segmentacao.dtypes"
      ],
      "metadata": {
        "colab": {
          "base_uri": "https://localhost:8080/"
        },
        "id": "TQffPJqdFrG6",
        "outputId": "8661cb77-e5f1-4cea-e1e4-dd601836195a"
      },
      "execution_count": null,
      "outputs": [
        {
          "output_type": "execute_result",
          "data": {
            "text/plain": [
              "Invoice                object\n",
              "StockCode              object\n",
              "Quantity                int64\n",
              "InvoiceDate    datetime64[ns]\n",
              "Price                 float64\n",
              "Customer ID            object\n",
              "Country                object\n",
              "dtype: object"
            ]
          },
          "metadata": {},
          "execution_count": 12
        }
      ]
    },
    {
      "cell_type": "code",
      "source": [
        "#Criar análise de RFM para a base de clientes\n",
        "df_segmentacao['Amount'] = df_segmentacao['Price'] * df_segmentacao['Quantity']"
      ],
      "metadata": {
        "id": "NJNtiu7jV8y0"
      },
      "execution_count": null,
      "outputs": []
    },
    {
      "cell_type": "code",
      "source": [
        "df_segmentacao.columns"
      ],
      "metadata": {
        "colab": {
          "base_uri": "https://localhost:8080/"
        },
        "id": "bAY2gSBLEtMC",
        "outputId": "1e77ef0e-3ae0-425a-dde9-fbad22a628c5"
      },
      "execution_count": null,
      "outputs": [
        {
          "output_type": "execute_result",
          "data": {
            "text/plain": [
              "Index(['Invoice', 'StockCode', 'Quantity', 'InvoiceDate', 'Price',\n",
              "       'Customer ID', 'Country', 'Amount'],\n",
              "      dtype='object')"
            ]
          },
          "metadata": {},
          "execution_count": 14
        }
      ]
    },
    {
      "cell_type": "markdown",
      "source": [
        "## [EDA]"
      ],
      "metadata": {
        "id": "XPu48yD6NB7O"
      }
    },
    {
      "cell_type": "code",
      "source": [
        "#Indicadores\n",
        "### Análise de cohort\n",
        "### Ranking de lugares com maiores quantidades de venda\n",
        "###"
      ],
      "metadata": {
        "id": "544dkUYjNGMH"
      },
      "execution_count": null,
      "outputs": []
    },
    {
      "cell_type": "markdown",
      "source": [
        "## RFM Analytcs"
      ],
      "metadata": {
        "id": "idLF_2JNMvk_"
      }
    },
    {
      "cell_type": "code",
      "source": [
        "#Cria feature de montante transacionado\n",
        "df_monetary = df_segmentacao.groupby('Customer ID')['Amount'].sum().reset_index()\n",
        "\n",
        "#Cria feature de invoice consumida\n",
        "df_frequency = df_segmentacao.groupby('Customer ID')['Invoice'].count().reset_index()\n",
        "\n",
        "\n",
        "#Junta as features tratadas\n",
        "rfm_dataframe = df_monetary.merge(df_frequency, on='Customer ID')"
      ],
      "metadata": {
        "id": "quO0cL3BEX1a"
      },
      "execution_count": null,
      "outputs": []
    },
    {
      "cell_type": "code",
      "source": [
        "#Trazer feature de recência de cada consumidor\n",
        "df_segmentacao['Recency'] = data_máxima - df_segmentacao['InvoiceDate']\n",
        "\n",
        "#Buscamos a data mínima em dias de cada cliente\n",
        "df_recency = df_segmentacao.groupby('Customer ID')['Recency'].min().reset_index()\n",
        "\n",
        "#Tratamos a data\n",
        "df_recency['Recency'] = df_recency['Recency'].dt.days"
      ],
      "metadata": {
        "id": "GZEAkJF6Eia2"
      },
      "execution_count": null,
      "outputs": []
    },
    {
      "cell_type": "code",
      "source": [
        "rfm_dataframe = rfm_dataframe.merge(df_recency, on='Customer ID')"
      ],
      "metadata": {
        "id": "BNESTfiXG9sJ"
      },
      "execution_count": null,
      "outputs": []
    },
    {
      "cell_type": "code",
      "source": [
        "#Quantidade de consumidores únicos\n",
        "len(rfm_dataframe['Customer ID'].unique().tolist())"
      ],
      "metadata": {
        "colab": {
          "base_uri": "https://localhost:8080/"
        },
        "id": "zcE0YxarMAVt",
        "outputId": "f59ed9f8-7d87-484d-90e7-e05fa3451efe"
      },
      "execution_count": null,
      "outputs": [
        {
          "output_type": "execute_result",
          "data": {
            "text/plain": [
              "4362"
            ]
          },
          "metadata": {},
          "execution_count": 19
        }
      ]
    },
    {
      "cell_type": "code",
      "source": [
        "# removing outliers\n",
        "# outlier treatment for amount\n",
        "Q1 = rfm_dataframe.Amount.quantile(0.05)\n",
        "Q3 = rfm_dataframe.Amount.quantile(0.95)\n",
        "IQR = Q3 - Q1\n",
        "rfm_dataframe = rfm_dataframe[(rfm_dataframe.Amount >= Q1 - 1.5*IQR) & (rfm_dataframe.Amount <= Q3 + 1.5*IQR)]\n",
        "\n",
        "# outlier treatment for recency\n",
        "Q1 = rfm_dataframe.Recency.quantile(0.05)\n",
        "Q3 = rfm_dataframe.Recency.quantile(0.95)\n",
        "IQR = Q3 - Q1\n",
        "rfm_dataframe = rfm_dataframe[(rfm_dataframe.Recency >= Q1 - 1.5*IQR) & (rfm_dataframe.Recency <= Q3 + 1.5*IQR)]\n",
        "\n",
        "# outlier treatment for frequency\n",
        "Q1 = rfm_dataframe.Invoice.quantile(0.05)\n",
        "Q3 = rfm_dataframe.Invoice.quantile(0.95)\n",
        "IQR = Q3 - Q1\n",
        "rfm_dataframe = rfm_dataframe[(rfm_dataframe.Invoice >= Q1 - 1.5*IQR) & (rfm_dataframe.Invoice <= Q3 + 1.5*IQR)]"
      ],
      "metadata": {
        "id": "dMTjrOo_G-00"
      },
      "execution_count": null,
      "outputs": []
    },
    {
      "cell_type": "code",
      "source": [
        "len(rfm_dataframe['Customer ID'].unique().tolist())"
      ],
      "metadata": {
        "colab": {
          "base_uri": "https://localhost:8080/"
        },
        "id": "FHgzisZlI3Lf",
        "outputId": "2e20641c-a10b-4288-e962-4bf6fdd98021"
      },
      "execution_count": null,
      "outputs": [
        {
          "output_type": "execute_result",
          "data": {
            "text/plain": [
              "4277"
            ]
          },
          "metadata": {},
          "execution_count": 22
        }
      ]
    },
    {
      "cell_type": "markdown",
      "source": [
        "## [Exp.1] RFM Score"
      ],
      "metadata": {
        "id": "VW3au-vYIA14"
      }
    },
    {
      "cell_type": "code",
      "source": [
        "rfm_dataframe[\"R_Score\"] = pd.qcut(rfm_dataframe[\"Recency\"],5,labels=[5,4,3,2,1])\n",
        "rfm_dataframe[\"F_Score\"] = pd.qcut(rfm_dataframe[\"Invoice\"].rank(method=\"first\"),5, labels=[1,2,3,4,5])\n",
        "rfm_dataframe[\"M_Score\"] = pd.qcut(rfm_dataframe[\"Amount\"],5,labels=[1,2,3,4,5])\n",
        "rfm_dataframe[\"RFM_Score\"] = rfm_dataframe[\"R_Score\"].astype(str) + rfm_dataframe[\"F_Score\"].astype(str) + rfm_dataframe[\"M_Score\"].astype(str)\n",
        "rfm_dataframe.head()"
      ],
      "metadata": {
        "colab": {
          "base_uri": "https://localhost:8080/",
          "height": 206
        },
        "id": "ene0SGN_ONjP",
        "outputId": "947ab5a9-a3be-4006-bc7a-a7810175b064"
      },
      "execution_count": null,
      "outputs": [
        {
          "output_type": "execute_result",
          "data": {
            "text/plain": [
              "  Customer ID   Amount  Invoice  Recency R_Score F_Score M_Score RFM_Score\n",
              "0       12346    27.02       44       66       3       3       1       331\n",
              "1       12347  1323.32       71        2       5       4       4       544\n",
              "2       12348   222.16       20       73       2       2       1       221\n",
              "3       12349  2646.99      107       42       3       4       5       345\n",
              "4       12351   300.93       21       10       5       2       2       522"
            ],
            "text/html": [
              "\n",
              "  <div id=\"df-3d4cfadb-c25d-4d97-85be-4b5f0ffcac3c\">\n",
              "    <div class=\"colab-df-container\">\n",
              "      <div>\n",
              "<style scoped>\n",
              "    .dataframe tbody tr th:only-of-type {\n",
              "        vertical-align: middle;\n",
              "    }\n",
              "\n",
              "    .dataframe tbody tr th {\n",
              "        vertical-align: top;\n",
              "    }\n",
              "\n",
              "    .dataframe thead th {\n",
              "        text-align: right;\n",
              "    }\n",
              "</style>\n",
              "<table border=\"1\" class=\"dataframe\">\n",
              "  <thead>\n",
              "    <tr style=\"text-align: right;\">\n",
              "      <th></th>\n",
              "      <th>Customer ID</th>\n",
              "      <th>Amount</th>\n",
              "      <th>Invoice</th>\n",
              "      <th>Recency</th>\n",
              "      <th>R_Score</th>\n",
              "      <th>F_Score</th>\n",
              "      <th>M_Score</th>\n",
              "      <th>RFM_Score</th>\n",
              "    </tr>\n",
              "  </thead>\n",
              "  <tbody>\n",
              "    <tr>\n",
              "      <th>0</th>\n",
              "      <td>12346</td>\n",
              "      <td>27.02</td>\n",
              "      <td>44</td>\n",
              "      <td>66</td>\n",
              "      <td>3</td>\n",
              "      <td>3</td>\n",
              "      <td>1</td>\n",
              "      <td>331</td>\n",
              "    </tr>\n",
              "    <tr>\n",
              "      <th>1</th>\n",
              "      <td>12347</td>\n",
              "      <td>1323.32</td>\n",
              "      <td>71</td>\n",
              "      <td>2</td>\n",
              "      <td>5</td>\n",
              "      <td>4</td>\n",
              "      <td>4</td>\n",
              "      <td>544</td>\n",
              "    </tr>\n",
              "    <tr>\n",
              "      <th>2</th>\n",
              "      <td>12348</td>\n",
              "      <td>222.16</td>\n",
              "      <td>20</td>\n",
              "      <td>73</td>\n",
              "      <td>2</td>\n",
              "      <td>2</td>\n",
              "      <td>1</td>\n",
              "      <td>221</td>\n",
              "    </tr>\n",
              "    <tr>\n",
              "      <th>3</th>\n",
              "      <td>12349</td>\n",
              "      <td>2646.99</td>\n",
              "      <td>107</td>\n",
              "      <td>42</td>\n",
              "      <td>3</td>\n",
              "      <td>4</td>\n",
              "      <td>5</td>\n",
              "      <td>345</td>\n",
              "    </tr>\n",
              "    <tr>\n",
              "      <th>4</th>\n",
              "      <td>12351</td>\n",
              "      <td>300.93</td>\n",
              "      <td>21</td>\n",
              "      <td>10</td>\n",
              "      <td>5</td>\n",
              "      <td>2</td>\n",
              "      <td>2</td>\n",
              "      <td>522</td>\n",
              "    </tr>\n",
              "  </tbody>\n",
              "</table>\n",
              "</div>\n",
              "      <button class=\"colab-df-convert\" onclick=\"convertToInteractive('df-3d4cfadb-c25d-4d97-85be-4b5f0ffcac3c')\"\n",
              "              title=\"Convert this dataframe to an interactive table.\"\n",
              "              style=\"display:none;\">\n",
              "        \n",
              "  <svg xmlns=\"http://www.w3.org/2000/svg\" height=\"24px\"viewBox=\"0 0 24 24\"\n",
              "       width=\"24px\">\n",
              "    <path d=\"M0 0h24v24H0V0z\" fill=\"none\"/>\n",
              "    <path d=\"M18.56 5.44l.94 2.06.94-2.06 2.06-.94-2.06-.94-.94-2.06-.94 2.06-2.06.94zm-11 1L8.5 8.5l.94-2.06 2.06-.94-2.06-.94L8.5 2.5l-.94 2.06-2.06.94zm10 10l.94 2.06.94-2.06 2.06-.94-2.06-.94-.94-2.06-.94 2.06-2.06.94z\"/><path d=\"M17.41 7.96l-1.37-1.37c-.4-.4-.92-.59-1.43-.59-.52 0-1.04.2-1.43.59L10.3 9.45l-7.72 7.72c-.78.78-.78 2.05 0 2.83L4 21.41c.39.39.9.59 1.41.59.51 0 1.02-.2 1.41-.59l7.78-7.78 2.81-2.81c.8-.78.8-2.07 0-2.86zM5.41 20L4 18.59l7.72-7.72 1.47 1.35L5.41 20z\"/>\n",
              "  </svg>\n",
              "      </button>\n",
              "      \n",
              "  <style>\n",
              "    .colab-df-container {\n",
              "      display:flex;\n",
              "      flex-wrap:wrap;\n",
              "      gap: 12px;\n",
              "    }\n",
              "\n",
              "    .colab-df-convert {\n",
              "      background-color: #E8F0FE;\n",
              "      border: none;\n",
              "      border-radius: 50%;\n",
              "      cursor: pointer;\n",
              "      display: none;\n",
              "      fill: #1967D2;\n",
              "      height: 32px;\n",
              "      padding: 0 0 0 0;\n",
              "      width: 32px;\n",
              "    }\n",
              "\n",
              "    .colab-df-convert:hover {\n",
              "      background-color: #E2EBFA;\n",
              "      box-shadow: 0px 1px 2px rgba(60, 64, 67, 0.3), 0px 1px 3px 1px rgba(60, 64, 67, 0.15);\n",
              "      fill: #174EA6;\n",
              "    }\n",
              "\n",
              "    [theme=dark] .colab-df-convert {\n",
              "      background-color: #3B4455;\n",
              "      fill: #D2E3FC;\n",
              "    }\n",
              "\n",
              "    [theme=dark] .colab-df-convert:hover {\n",
              "      background-color: #434B5C;\n",
              "      box-shadow: 0px 1px 3px 1px rgba(0, 0, 0, 0.15);\n",
              "      filter: drop-shadow(0px 1px 2px rgba(0, 0, 0, 0.3));\n",
              "      fill: #FFFFFF;\n",
              "    }\n",
              "  </style>\n",
              "\n",
              "      <script>\n",
              "        const buttonEl =\n",
              "          document.querySelector('#df-3d4cfadb-c25d-4d97-85be-4b5f0ffcac3c button.colab-df-convert');\n",
              "        buttonEl.style.display =\n",
              "          google.colab.kernel.accessAllowed ? 'block' : 'none';\n",
              "\n",
              "        async function convertToInteractive(key) {\n",
              "          const element = document.querySelector('#df-3d4cfadb-c25d-4d97-85be-4b5f0ffcac3c');\n",
              "          const dataTable =\n",
              "            await google.colab.kernel.invokeFunction('convertToInteractive',\n",
              "                                                     [key], {});\n",
              "          if (!dataTable) return;\n",
              "\n",
              "          const docLinkHtml = 'Like what you see? Visit the ' +\n",
              "            '<a target=\"_blank\" href=https://colab.research.google.com/notebooks/data_table.ipynb>data table notebook</a>'\n",
              "            + ' to learn more about interactive tables.';\n",
              "          element.innerHTML = '';\n",
              "          dataTable['output_type'] = 'display_data';\n",
              "          await google.colab.output.renderOutput(dataTable, element);\n",
              "          const docLink = document.createElement('div');\n",
              "          docLink.innerHTML = docLinkHtml;\n",
              "          element.appendChild(docLink);\n",
              "        }\n",
              "      </script>\n",
              "    </div>\n",
              "  </div>\n",
              "  "
            ]
          },
          "metadata": {},
          "execution_count": 23
        }
      ]
    },
    {
      "cell_type": "code",
      "source": [
        "# plot the distribution of customers over R and F\n",
        "fig, axes = plt.subplots(nrows=1, ncols=2, figsize=(16, 5))\n",
        "\n",
        "for i, p in enumerate(['R_Score', 'F_Score']):\n",
        "    parameters = {'R_Score':'Recencia', 'F_Score':'Frequencia'}\n",
        "    y = rfm_dataframe[p].value_counts().sort_index()\n",
        "    x = y.index\n",
        "    ax = axes[i]\n",
        "    bars = ax.bar(x, y, color='silver')\n",
        "    ax.set_frame_on(False)\n",
        "    ax.tick_params(left=False, labelleft=False, bottom=False)\n",
        "    ax.set_title('Distribuição de consumidores por {}'.format(parameters[p]),\n",
        "                fontsize=14)\n",
        "    for bar in bars:\n",
        "        value = bar.get_height()\n",
        "        if value == y.max():\n",
        "            bar.set_color('firebrick')\n",
        "        ax.text(bar.get_x() + bar.get_width() / 2,\n",
        "                value - 5,\n",
        "                '{}\\n({}%)'.format(int(value), int(value * 100 / y.sum())),\n",
        "               ha='center',\n",
        "               va='top',\n",
        "               color='w')\n",
        "\n",
        "plt.show()\n",
        "\n",
        "# plot the distribution of M for RF score\n",
        "fig, axes = plt.subplots(nrows=5, ncols=5,\n",
        "                         sharex=False, sharey=True,\n",
        "                         figsize=(10, 10))\n",
        "\n",
        "r_range = range(1, 6)\n",
        "f_range = range(1, 6)\n",
        "for r in r_range:\n",
        "    for f in f_range:\n",
        "        y = rfm_dataframe[(rfm_dataframe['R_Score'] == r) & (rfm_dataframe['F_Score'] == f)]['M_Score'].value_counts().sort_index()\n",
        "        x = y.index\n",
        "        ax = axes[r - 1, f - 1]\n",
        "        bars = ax.bar(x, y, color='silver')\n",
        "        if r == 5:\n",
        "            if f == 3:\n",
        "                ax.set_xlabel('{}\\nF'.format(f), va='top')\n",
        "            else:\n",
        "                ax.set_xlabel('{}\\n'.format(f), va='top')\n",
        "        if f == 1:\n",
        "            if r == 3:\n",
        "                ax.set_ylabel('R\\n{}'.format(r))\n",
        "            else:\n",
        "                ax.set_ylabel(r)\n",
        "        ax.set_frame_on(False)\n",
        "        ax.tick_params(left=False, labelleft=False, bottom=False)\n",
        "        ax.set_xticks(x)\n",
        "        ax.set_xticklabels(x, fontsize=8)\n",
        "\n",
        "        for bar in bars:\n",
        "            value = bar.get_height()\n",
        "            if value == y.max():\n",
        "                bar.set_color('firebrick')\n",
        "            ax.text(bar.get_x() + bar.get_width() / 2,\n",
        "                    value,\n",
        "                    int(value),\n",
        "                    ha='center',\n",
        "                    va='bottom',\n",
        "                    color='k')\n",
        "fig.suptitle('Distribution of M for each F and R',\n",
        "             fontsize=14)\n",
        "plt.tight_layout()\n",
        "plt.show()"
      ],
      "metadata": {
        "id": "99oZfms2ScXz",
        "colab": {
          "base_uri": "https://localhost:8080/",
          "height": 1000
        },
        "outputId": "35db7693-4dde-41a3-d6a2-a0ccef1aa6d4"
      },
      "execution_count": null,
      "outputs": [
        {
          "output_type": "display_data",
          "data": {
            "text/plain": [
              "<Figure size 1152x360 with 2 Axes>"
            ],
            "image/png": "[encoded data removed]"
          },
          "metadata": {
            "needs_background": "light"
          }
        },
        {
          "output_type": "display_data",
          "data": {
            "text/plain": [
              "<Figure size 720x720 with 25 Axes>"
            ],
            "image/png": "[encoded data removed]"
          },
          "metadata": {
            "needs_background": "light"
          }
        }
      ]
    },
    {
      "cell_type": "code",
      "source": [],
      "metadata": {
        "id": "x-IiB3G0QSNI"
      },
      "execution_count": null,
      "outputs": []
    }
  ]
}